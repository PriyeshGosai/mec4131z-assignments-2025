{
 "cells": [
  {
   "cell_type": "markdown",
   "id": "08cc58ba",
   "metadata": {},
   "source": [
    "For Google Colab users, setup the environment and install pypsa. "
   ]
  },
  {
   "cell_type": "code",
   "execution_count": null,
   "id": "0ac11eef",
   "metadata": {},
   "outputs": [],
   "source": [
    "# !pip install pypsa pypsa[excel]"
   ]
  },
  {
   "cell_type": "code",
   "execution_count": null,
   "id": "1ca550c0",
   "metadata": {},
   "outputs": [],
   "source": [
    "# from google.colab import drive\n",
    "\n",
    "# import os\n",
    "\n",
    "# drive.mount('/content/drive')\n",
    "\n",
    "# # Define your assignments folder path\n",
    "# assignments_path = '/content/drive/MyDrive/mec4131z-assignments-2025'\n",
    "\n",
    "# # Change working directory (optional, only if you want)\n",
    "# os.chdir(assignments_path)\n"
   ]
  },
  {
   "cell_type": "markdown",
   "id": "ffc773a8",
   "metadata": {},
   "source": [
    "# Assignment 5 Notebook\n",
    "\n",
    "Use this notebook for your assignment, there are plotting functions and the export code at the end. "
   ]
  },
  {
   "cell_type": "code",
   "execution_count": null,
   "id": "238c2c2c",
   "metadata": {},
   "outputs": [],
   "source": [
    "import pypsa\n",
    "import pandas as pd\n",
    "pd.options.plotting.backend = \"plotly\"\n",
    "n = pypsa.Network(\"assignment-5-case1.xlsx\")\n",
    "# n = pypsa.Network(\"assignment-5-case2.xlsx\")\n",
    "# n = pypsa.Network(\"assignment-5-case3.xlsx\")\n",
    "# n = pypsa.Network(\"assignment-5-case4.xlsx\")\n",
    "# n = pypsa.Network(\"assignment-5-case5.xlsx\")\n",
    "# n = pypsa.Network(\"assignment-5-case6.xlsx\")"
   ]
  },
  {
   "cell_type": "code",
   "execution_count": null,
   "id": "c5d90112",
   "metadata": {},
   "outputs": [],
   "source": [
    "n.generators_t.p_max_pu.plot()"
   ]
  },
  {
   "cell_type": "code",
   "execution_count": null,
   "id": "f9ba4c3d",
   "metadata": {},
   "outputs": [],
   "source": [
    "n.generators_t.p_min_pu.plot()"
   ]
  },
  {
   "cell_type": "code",
   "execution_count": null,
   "id": "8bbf67a9",
   "metadata": {},
   "outputs": [],
   "source": [
    "n.loads_t.p_set.plot()"
   ]
  },
  {
   "cell_type": "code",
   "execution_count": null,
   "id": "d211fbd4",
   "metadata": {},
   "outputs": [],
   "source": [
    "n.optimize()"
   ]
  },
  {
   "cell_type": "code",
   "execution_count": null,
   "id": "daaf6712",
   "metadata": {},
   "outputs": [],
   "source": [
    "n.generators_t.p[\"Loadshedding\"].plot()"
   ]
  },
  {
   "cell_type": "code",
   "execution_count": null,
   "id": "97932305",
   "metadata": {},
   "outputs": [],
   "source": [
    "n.generators_t.p[\"Loadshedding\"].sum()\n"
   ]
  },
  {
   "cell_type": "code",
   "execution_count": null,
   "id": "9cfb2167",
   "metadata": {},
   "outputs": [],
   "source": [
    "n.generators_t.p.describe()"
   ]
  },
  {
   "cell_type": "code",
   "execution_count": null,
   "id": "f36e58f8",
   "metadata": {},
   "outputs": [],
   "source": [
    "n.storage_units_t.state_of_charge.plot()"
   ]
  },
  {
   "cell_type": "code",
   "execution_count": null,
   "id": "245e0600",
   "metadata": {},
   "outputs": [],
   "source": [
    "n.storage_units_t.p.plot()"
   ]
  },
  {
   "cell_type": "code",
   "execution_count": null,
   "id": "1e0db5ba",
   "metadata": {},
   "outputs": [],
   "source": [
    "import pandas as pd\n",
    "\n",
    "# Assume your network is called 'network'\n",
    "# 1. Merge generator power time series with generator attributes\n",
    "gen_p = n.generators_t.p.copy()\n",
    "gen_p['carrier'] = n.generators.carrier\n",
    "\n",
    "# 2. Sum across time\n",
    "total_energy_per_generator = gen_p.drop(columns=\"carrier\").sum()\n",
    "\n",
    "# 3. Map generators to carriers\n",
    "carrier_map = n.generators.carrier\n",
    "total_energy_per_carrier = total_energy_per_generator.groupby(carrier_map).sum()\n",
    "\n",
    "print(total_energy_per_carrier)\n"
   ]
  },
  {
   "cell_type": "code",
   "execution_count": null,
   "id": "dd021e61",
   "metadata": {},
   "outputs": [],
   "source": [
    "import plotly.graph_objects as go\n",
    "\n",
    "# 1. Map generators to their carrier\n",
    "carrier_map = n.generators.carrier\n",
    "\n",
    "# 2. Group actual production per snapshot\n",
    "power_per_carrier_per_snapshot = n.generators_t.p.groupby(carrier_map, axis=1).sum()\n",
    "\n",
    "# 3. Calculate installed capacity for specific carriers\n",
    "carrier_capacities = n.generators.groupby('carrier').p_nom.sum()\n",
    "\n",
    "# 4. Start building the figure\n",
    "fig = go.Figure()\n",
    "\n",
    "# 5. Add traces for each carrier's production\n",
    "for carrier in power_per_carrier_per_snapshot.columns:\n",
    "    fig.add_trace(go.Scatter(\n",
    "        x=power_per_carrier_per_snapshot.index,\n",
    "        y=power_per_carrier_per_snapshot[carrier],\n",
    "        mode='lines',\n",
    "        name=carrier\n",
    "    ))\n",
    "\n",
    "# 6. Add horizontal lines for coal, nuclear, oil capacities\n",
    "for selected_carrier in ['coal', 'nuclear', 'oil']:\n",
    "    if selected_carrier in carrier_capacities.index:\n",
    "        capacity = carrier_capacities[selected_carrier]\n",
    "        fig.add_trace(go.Scatter(\n",
    "            x=[power_per_carrier_per_snapshot.index.min(), power_per_carrier_per_snapshot.index.max()],\n",
    "            y=[capacity, capacity],\n",
    "            mode='lines',\n",
    "            name=f\"{selected_carrier} capacity ({capacity:.0f} MW)\",\n",
    "            line=dict(dash='dash')  # dashed line\n",
    "        ))\n",
    "\n",
    "# 7. Layout settings\n",
    "fig.update_layout(\n",
    "    title=\"Power Production by Carrier with Installed Capacities\",\n",
    "    xaxis_title=\"Time\",\n",
    "    yaxis_title=\"Power [MW]\",\n",
    "    legend_title=\"Carriers and Capacities\",\n",
    "    template=\"plotly_white\",\n",
    "    height=600\n",
    ")\n",
    "\n",
    "fig.show()\n"
   ]
  },
  {
   "cell_type": "code",
   "execution_count": null,
   "id": "99a27d23",
   "metadata": {},
   "outputs": [],
   "source": [
    "n.generators_t.p.plot(kind=\"area\")"
   ]
  },
  {
   "cell_type": "code",
   "execution_count": null,
   "id": "8ae99c8a",
   "metadata": {},
   "outputs": [],
   "source": [
    "n.storage_units_t.p.plot(kind=\"area\")"
   ]
  },
  {
   "cell_type": "code",
   "execution_count": null,
   "id": "87a3782a",
   "metadata": {},
   "outputs": [],
   "source": [
    "import pandas as pd\n",
    "\n",
    "# Copy the storage p dataframe\n",
    "storage_p = n.storage_units_t.p.copy()\n",
    "\n",
    "# Create two new DataFrames for dispatch and charge\n",
    "storage_dispatch = storage_p.clip(lower=0)  # Keep only positive (discharge)\n",
    "storage_charge = (storage_p.clip(upper=0))  # Flip sign for charging\n",
    "\n",
    "# Rename the indices to distinguish\n",
    "storage_dispatch.index.name = 'snapshot'\n",
    "storage_dispatch.columns = [f\"{col} dispatch\" for col in storage_dispatch.columns]\n",
    "\n",
    "storage_charge.index.name = 'snapshot'\n",
    "storage_charge.columns = [f\"{col} charge\" for col in storage_charge.columns]\n",
    "\n",
    "# Now, bring in the generator p\n",
    "generator_p = n.generators_t.p.copy()\n",
    "generator_p.index.name = 'snapshot'\n",
    "\n",
    "# Concatenate everything\n",
    "combined_df = pd.concat([generator_p, storage_dispatch, storage_charge], axis=1)\n",
    "\n",
    "# Optional: sort columns if you want it tidy\n",
    "combined_df = combined_df.sort_index(axis=1)\n",
    "\n"
   ]
  },
  {
   "cell_type": "code",
   "execution_count": null,
   "id": "6057bdd7",
   "metadata": {},
   "outputs": [],
   "source": [
    "combined_df.plot(kind=\"area\", title=\"Power Production and Storage Dispatch/Charge\")"
   ]
  },
  {
   "cell_type": "code",
   "execution_count": null,
   "id": "8a7f59c8",
   "metadata": {},
   "outputs": [],
   "source": [
    "combined_df.columns"
   ]
  },
  {
   "cell_type": "code",
   "execution_count": null,
   "id": "6821985a",
   "metadata": {},
   "outputs": [],
   "source": [
    "# Your desired plotting order\n",
    "plot_order = [\n",
    "    'BESS 1 charge',\n",
    "    'BESS 2 charge',\n",
    "    'Drakensberg charge',\n",
    "    'Ingula charge',\n",
    "    'Palmiet charge',\n",
    "    'Steenbras charge',\n",
    "    'Solar',\n",
    "    'Wind',\n",
    "    'Koeberg 2',\n",
    "    'Koeberg 1',\n",
    "    'Kusile 1',\n",
    "    'Kusile 2',\n",
    "    'Kusile 3',\n",
    "    'Kusile 4',\n",
    "    'Kusile 5',\n",
    "    'Kusile 6',\n",
    "    'Medupi 1',\n",
    "    'Medupi 2',\n",
    "    'Medupi 3',\n",
    "    'Medupi 4',\n",
    "    'Medupi 5',\n",
    "    'Medupi 6',\n",
    "    'Duvha 1',\n",
    "    'Duvha 2',\n",
    "    'Duvha 3',\n",
    "    'Duvha 4',\n",
    "    'Duvha 5',\n",
    "    'Duvha 6',\n",
    "    'Lethabo 1',\n",
    "    'Lethabo 2',\n",
    "    'Lethabo 3',\n",
    "    'Lethabo 4',\n",
    "    'Lethabo 5',\n",
    "    'Lethabo 6',\n",
    "    'Majuba 1',\n",
    "    'Majuba 2',\n",
    "    'Majuba 3',\n",
    "    'Majuba 4',\n",
    "    'Majuba 5',\n",
    "    'Majuba 6',\n",
    "    'Kendal 1',\n",
    "    'Kendal 2',\n",
    "    'Kendal 3',\n",
    "    'Kendal 4',\n",
    "    'Kendal 5',\n",
    "    'Kendal 6',\n",
    "    'Acacia',\n",
    "    'Ankerlig',\n",
    "    'Gas Engines',\n",
    "    'Gourikwa',\n",
    "    'Port Rex',\n",
    "    'BESS 1 dispatch',\n",
    "    'BESS 2 dispatch',\n",
    "    'Drakensberg dispatch',\n",
    "    'Ingula dispatch',\n",
    "    'Palmiet dispatch',\n",
    "    'Steenbras dispatch',\n",
    "    'Loadshedding'\n",
    "]\n",
    "\n",
    "# Reorder the combined_df\n",
    "# Drop missing ones first to avoid KeyError if any label doesn't exist\n",
    "columns_in_df = [col for col in plot_order if col in combined_df.columns]\n",
    "\n",
    "combined_df = combined_df[columns_in_df]\n"
   ]
  },
  {
   "cell_type": "code",
   "execution_count": null,
   "id": "90be533d",
   "metadata": {},
   "outputs": [],
   "source": [
    "import plotly.graph_objects as go\n",
    "\n",
    "fig = go.Figure()\n",
    "\n",
    "for col in combined_df.columns:\n",
    "    fig.add_trace(go.Scatter(\n",
    "        x=combined_df.index,\n",
    "        y=combined_df[col],\n",
    "        mode='lines',\n",
    "        stackgroup='one',\n",
    "        name=col\n",
    "    ))\n",
    "\n",
    "fig.update_layout(\n",
    "    title=\"Stacked Area Plot\",\n",
    "    xaxis_title=\"Time\",\n",
    "    yaxis_title=\"Power [MW]\",\n",
    "    legend_title=\"Units\",\n",
    "    hovermode=\"x unified\"\n",
    ")\n",
    "\n",
    "fig.show()\n"
   ]
  },
  {
   "cell_type": "code",
   "execution_count": null,
   "id": "1b007c47",
   "metadata": {},
   "outputs": [],
   "source": [
    "#to export results to excel\n",
    "\n",
    "# n.export_to_excel(\"assignment-4-casex-results.xlsx\")"
   ]
  },
  {
   "cell_type": "code",
   "execution_count": null,
   "id": "5c4eb3de",
   "metadata": {},
   "outputs": [],
   "source": [
    "#to export results to ecsv\n",
    "\n",
    "# n.export_to_csv(\"assignment-4-casex-results\")"
   ]
  }
 ],
 "metadata": {
  "kernelspec": {
   "display_name": "pypsa",
   "language": "python",
   "name": "python3"
  },
  "language_info": {
   "codemirror_mode": {
    "name": "ipython",
    "version": 3
   },
   "file_extension": ".py",
   "mimetype": "text/x-python",
   "name": "python",
   "nbconvert_exporter": "python",
   "pygments_lexer": "ipython3",
   "version": "3.12.1"
  }
 },
 "nbformat": 4,
 "nbformat_minor": 5
}
