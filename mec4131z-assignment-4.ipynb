{
 "cells": [
  {
   "cell_type": "markdown",
   "id": "08cc58ba",
   "metadata": {},
   "source": [
    "For Google Colab users, setup the environment and install pypsa. "
   ]
  },
  {
   "cell_type": "code",
   "execution_count": null,
   "id": "0ac11eef",
   "metadata": {},
   "outputs": [],
   "source": [
    "# !pip install pypsa pypsa[excel]"
   ]
  },
  {
   "cell_type": "code",
   "execution_count": null,
   "id": "1ca550c0",
   "metadata": {},
   "outputs": [],
   "source": [
    "# from google.colab import drive\n",
    "\n",
    "# import os\n",
    "\n",
    "# drive.mount('/content/drive')\n",
    "\n",
    "# # Define your assignments folder path\n",
    "# assignments_path = '/content/drive/MyDrive/mec4131z-assignments-2025'\n",
    "\n",
    "# # Change working directory (optional, only if you want)\n",
    "# os.chdir(assignments_path)\n"
   ]
  },
  {
   "cell_type": "markdown",
   "id": "ffc773a8",
   "metadata": {},
   "source": [
    "# Assignment 4 Notebook\n",
    "\n",
    "Use this notebook for your assignment, there are plotting functions and the export code at the end. "
   ]
  },
  {
   "cell_type": "code",
   "execution_count": null,
   "id": "238c2c2c",
   "metadata": {},
   "outputs": [],
   "source": [
    "import pypsa\n",
    "import pandas as pd\n",
    "pd.options.plotting.backend = \"plotly\"\n",
    "n = pypsa.Network(\"assignment-4-case1.xlsx\")\n",
    "# n = pypsa.Network(\"assignment-4-case2.xlsx\")\n"
   ]
  },
  {
   "cell_type": "code",
   "execution_count": null,
   "id": "99f15fee",
   "metadata": {},
   "outputs": [],
   "source": [
    "n.generators"
   ]
  },
  {
   "cell_type": "code",
   "execution_count": null,
   "id": "c5d90112",
   "metadata": {},
   "outputs": [],
   "source": [
    "n.generators_t.p_max_pu.plot()"
   ]
  },
  {
   "cell_type": "code",
   "execution_count": null,
   "id": "f9ba4c3d",
   "metadata": {},
   "outputs": [],
   "source": [
    "n.generators_t.p_min_pu.plot()"
   ]
  },
  {
   "cell_type": "code",
   "execution_count": null,
   "id": "8bbf67a9",
   "metadata": {},
   "outputs": [],
   "source": [
    "n.loads_t.p_set.plot()"
   ]
  },
  {
   "cell_type": "code",
   "execution_count": null,
   "id": "d211fbd4",
   "metadata": {},
   "outputs": [],
   "source": [
    "n.optimize()"
   ]
  },
  {
   "cell_type": "code",
   "execution_count": null,
   "id": "650ed723",
   "metadata": {},
   "outputs": [],
   "source": [
    "import plotly.graph_objects as go\n",
    "\n",
    "# Find generator names containing 'Loadshedding' or 'Overcapacity'\n",
    "loadshedding_names = n.generators.index[n.generators.index.str.contains('Loadshedding|Overcapacity')]\n",
    "\n",
    "# Filter the time series\n",
    "loadshedding_p = n.generators_t.p[loadshedding_names]\n",
    "\n",
    "# Plot\n",
    "fig = go.Figure()\n",
    "\n",
    "for col in loadshedding_p.columns:\n",
    "    fig.add_trace(go.Scatter(\n",
    "        x=loadshedding_p.index,\n",
    "        y=loadshedding_p[col],\n",
    "        mode='lines',\n",
    "        name=col\n",
    "    ))\n",
    "\n",
    "fig.update_layout(\n",
    "    title=\"Loadshedding and Overcapacity Generator Dispatch Over Time\",\n",
    "    xaxis_title=\"Time\",\n",
    "    yaxis_title=\"Power Output (MW)\",\n",
    "    legend_title=\"Generator\",\n",
    "    hovermode=\"x unified\"\n",
    ")\n",
    "\n",
    "fig.show()\n"
   ]
  },
  {
   "cell_type": "code",
   "execution_count": null,
   "id": "c979f060",
   "metadata": {},
   "outputs": [],
   "source": [
    "n.generators"
   ]
  },
  {
   "cell_type": "code",
   "execution_count": null,
   "id": "9cfb2167",
   "metadata": {},
   "outputs": [],
   "source": [
    "n.generators_t.p.describe()"
   ]
  },
  {
   "cell_type": "code",
   "execution_count": null,
   "id": "f36e58f8",
   "metadata": {},
   "outputs": [],
   "source": [
    "n.storage_units_t.state_of_charge.plot()"
   ]
  },
  {
   "cell_type": "code",
   "execution_count": null,
   "id": "245e0600",
   "metadata": {},
   "outputs": [],
   "source": [
    "n.storage_units_t.p.plot()"
   ]
  },
  {
   "cell_type": "code",
   "execution_count": null,
   "id": "1e0db5ba",
   "metadata": {},
   "outputs": [],
   "source": [
    "import pandas as pd\n",
    "\n",
    "# Assume your network is called 'network'\n",
    "# 1. Merge generator power time series with generator attributes\n",
    "gen_p = n.generators_t.p.copy()\n",
    "gen_p['carrier'] = n.generators.carrier\n",
    "\n",
    "# 2. Sum across time\n",
    "total_energy_per_generator = gen_p.drop(columns=\"carrier\").sum()\n",
    "\n",
    "# 3. Map generators to carriers\n",
    "carrier_map = n.generators.carrier\n",
    "total_energy_per_carrier = total_energy_per_generator.groupby(carrier_map).sum()\n",
    "\n",
    "print(total_energy_per_carrier)\n"
   ]
  },
  {
   "cell_type": "code",
   "execution_count": null,
   "id": "cea2b31f",
   "metadata": {},
   "outputs": [],
   "source": [
    "import folium\n",
    "import pandas as pd\n",
    "import numpy as np\n",
    "\n",
    "# Assume you already have:\n",
    "# n.buses with ['x', 'y'] (longitude, latitude)\n",
    "# n.links with ['bus0', 'bus1', 'p_nom']\n",
    "# n.links_t.p0 and n.links_t.p1\n",
    "\n",
    "# 1. Setup a folium Map (centered roughly at South Africa)\n",
    "m = folium.Map(location=[-29.0, 24.0], zoom_start=5)\n",
    "\n",
    "# 2. Add dots for each bus\n",
    "for bus, row in n.buses.iterrows():\n",
    "    folium.CircleMarker(\n",
    "        location=[row['y'], row['x']],\n",
    "        radius=5,\n",
    "        color='black',\n",
    "        fill=True,\n",
    "        fill_opacity=1,\n",
    "        popup=bus\n",
    "    ).add_to(m)\n",
    "\n",
    "# 3. Draw lines between buses\n",
    "for link, row in n.links.iterrows():\n",
    "    try:\n",
    "        # Get bus coordinates\n",
    "        bus0 = n.buses.loc[row['bus0']]\n",
    "        bus1 = n.buses.loc[row['bus1']]\n",
    "        \n",
    "        # Get total flow (mean absolute flow over time)\n",
    "        flow0 = n.links_t.p0[link].abs().mean()\n",
    "        flow1 = n.links_t.p1[link].abs().mean()\n",
    "        total_flow = flow0 + flow1\n",
    "\n",
    "        # Get p_nom for coloring\n",
    "        p_nom = row['p_nom']\n",
    "\n",
    "        # Choose color based on p_nom (simple scaling)\n",
    "        if p_nom < 100:\n",
    "            color = 'green'\n",
    "        elif p_nom < 300:\n",
    "            color = 'orange'\n",
    "        else:\n",
    "            color = 'red'\n",
    "\n",
    "        # Line weight proportional to total_flow\n",
    "        weight = max(1, total_flow / 1000)  # adjust the scale if needed\n",
    "\n",
    "        folium.PolyLine(\n",
    "            locations=[[bus0['y'], bus0['x']], [bus1['y'], bus1['x']]],\n",
    "            color=color,\n",
    "            weight=weight,\n",
    "            popup=f\"{link}: {total_flow:.1f} MW flow, {p_nom} MW rating\"\n",
    "        ).add_to(m)\n",
    "\n",
    "    except KeyError:\n",
    "        # Skip if a bus is missing\n",
    "        continue\n",
    "\n",
    "# 4. Show map\n",
    "m\n"
   ]
  },
  {
   "cell_type": "code",
   "execution_count": null,
   "id": "99a27d23",
   "metadata": {},
   "outputs": [],
   "source": [
    "n.generators_t.p.plot(kind=\"area\")"
   ]
  },
  {
   "cell_type": "code",
   "execution_count": null,
   "id": "856ca0d0",
   "metadata": {},
   "outputs": [],
   "source": [
    "link_loading = n.links_t.p0.div(n.links.p_nom.reindex(n.links_t.p0.columns))\n",
    "link_loading.plot()\n"
   ]
  },
  {
   "cell_type": "code",
   "execution_count": null,
   "id": "64e2e737",
   "metadata": {},
   "outputs": [],
   "source": [
    "import plotly.graph_objects as go\n",
    "from plotly.subplots import make_subplots\n",
    "import math\n",
    "\n",
    "# Assuming n.links_t.p0 is a DataFrame\n",
    "p0 = n.links_t.p0\n",
    "\n",
    "# Calculate how many rows needed (2 columns)\n",
    "n_links = p0.shape[1]\n",
    "n_rows = math.ceil(n_links / 2)\n",
    "\n",
    "# Create subplot figure\n",
    "fig = make_subplots(rows=n_rows, cols=2, subplot_titles=p0.columns.tolist())\n",
    "\n",
    "# Loop over each link and add a plot\n",
    "for i, col in enumerate(p0.columns):\n",
    "    row = i // 2 + 1\n",
    "    col_num = i % 2 + 1\n",
    "    fig.add_trace(\n",
    "        go.Scatter(x=p0.index, y=p0[col], name=col),\n",
    "        row=row, col=col_num\n",
    "    )\n",
    "\n",
    "# Update layout for readability\n",
    "fig.update_layout(height=300*n_rows, width=1000, title_text=\"Link Flows (p0)\", showlegend=False)\n",
    "\n",
    "# Show the figure\n",
    "fig.show()"
   ]
  },
  {
   "cell_type": "code",
   "execution_count": null,
   "id": "ce59bd47",
   "metadata": {},
   "outputs": [],
   "source": [
    "import plotly.graph_objects as go\n",
    "from plotly.subplots import make_subplots\n",
    "import math\n",
    "\n",
    "# Assuming n.links_t.p0 and n.links.p_nom are available\n",
    "p0 = n.links_t.p0\n",
    "p_nom = n.links.p_nom\n",
    "\n",
    "# Normalise p0 by p_nom for each line\n",
    "p0_normalized = p0.copy()\n",
    "for col in p0.columns:\n",
    "    if col in p_nom.index:\n",
    "        p0_normalized[col] = p0[col] / p_nom[col]\n",
    "    else:\n",
    "        p0_normalized[col] = p0[col]  # if p_nom missing, leave as is\n",
    "\n",
    "# Calculate how many rows needed (2 columns)\n",
    "n_links = p0_normalized.shape[1]\n",
    "n_rows = math.ceil(n_links / 2)\n",
    "\n",
    "# Create subplot figure\n",
    "fig = make_subplots(rows=n_rows, cols=2, subplot_titles=p0_normalized.columns.tolist())\n",
    "\n",
    "# Loop over each link and add a plot\n",
    "for i, col in enumerate(p0_normalized.columns):\n",
    "    row = i // 2 + 1\n",
    "    col_num = i % 2 + 1\n",
    "    fig.add_trace(\n",
    "        go.Scatter(x=p0_normalized.index, y=p0_normalized[col], name=col),\n",
    "        row=row, col=col_num\n",
    "    )\n",
    "\n",
    "# Update layout for readability\n",
    "fig.update_layout(height=300*n_rows, width=1000, title_text=\"Normalized Link Flows (p0 / p_nom)\", showlegend=False)\n",
    "\n",
    "# Show the figure\n",
    "fig.show()\n"
   ]
  },
  {
   "cell_type": "code",
   "execution_count": null,
   "id": "8ae99c8a",
   "metadata": {},
   "outputs": [],
   "source": [
    "n.storage_units_t.p.plot(kind=\"area\")"
   ]
  },
  {
   "cell_type": "code",
   "execution_count": null,
   "id": "87a3782a",
   "metadata": {},
   "outputs": [],
   "source": [
    "import pandas as pd\n",
    "\n",
    "# Copy the storage p dataframe\n",
    "storage_p = n.storage_units_t.p.copy()\n",
    "\n",
    "# Create two new DataFrames for dispatch and charge\n",
    "storage_dispatch = storage_p.clip(lower=0)  # Keep only positive (discharge)\n",
    "storage_charge = (storage_p.clip(upper=0))  # Flip sign for charging\n",
    "\n",
    "# Rename the indices to distinguish\n",
    "storage_dispatch.index.name = 'snapshot'\n",
    "storage_dispatch.columns = [f\"{col} dispatch\" for col in storage_dispatch.columns]\n",
    "\n",
    "storage_charge.index.name = 'snapshot'\n",
    "storage_charge.columns = [f\"{col} charge\" for col in storage_charge.columns]\n",
    "\n",
    "# Now, bring in the generator p\n",
    "generator_p = n.generators_t.p.copy()\n",
    "generator_p.index.name = 'snapshot'\n",
    "\n",
    "# Concatenate everything\n",
    "combined_df = pd.concat([generator_p, storage_dispatch, storage_charge], axis=1)\n",
    "\n",
    "# Optional: sort columns if you want it tidy\n",
    "combined_df = combined_df.sort_index(axis=1)\n",
    "\n"
   ]
  },
  {
   "cell_type": "code",
   "execution_count": null,
   "id": "6057bdd7",
   "metadata": {},
   "outputs": [],
   "source": [
    "combined_df.plot(kind=\"area\", title=\"Power Production and Storage Dispatch/Charge\")"
   ]
  },
  {
   "cell_type": "code",
   "execution_count": null,
   "id": "8a7f59c8",
   "metadata": {},
   "outputs": [],
   "source": [
    "combined_df.columns"
   ]
  },
  {
   "cell_type": "code",
   "execution_count": null,
   "id": "6821985a",
   "metadata": {},
   "outputs": [],
   "source": [
    "plot_order = [\n",
    "    'EC Overcapacity',\n",
    "    'FS Overcapacity',\n",
    "    'GP Overcapacity',\n",
    "    'ZN Overcapacity',\n",
    "    'LP Overcapacity',\n",
    "    'MP Overcapacity',\n",
    "    'NC Overcapacity',\n",
    "    'NW Overcapacity',\n",
    "    'WC Overcapacity',\n",
    "    'BESS EC charge',\n",
    "    'BESS FS charge',\n",
    "    'BESS GP charge',\n",
    "    'BESS ZN charge',\n",
    "    'BESS LP charge',\n",
    "    'BESS MP charge',\n",
    "    'BESS NW charge',\n",
    "    'BESS NC charge',\n",
    "    'BESS WC charge',\n",
    "    'Drakensberg charge',\n",
    "    'Ingula charge',\n",
    "    'Palmiet charge',\n",
    "    'Steenbras charge',\n",
    "    'CFPP Mpumalanga',\n",
    "    'CFPP Free State',\n",
    "    'CFPP Limpopo',\n",
    "    'Solar Eastern Cape',\n",
    "    'Solar Free State',\n",
    "    'Solar Gauteng',\n",
    "    'Solar KwaZulu-Natal',\n",
    "    'Solar Limpopo',\n",
    "    'Solar Mpumalanga',\n",
    "    'Solar North West',\n",
    "    'Solar Northern Cape',\n",
    "    'Solar Western Cape',\n",
    "    'Wind Eastern Cape',\n",
    "    'Wind Free State',\n",
    "    'Wind Gauteng',\n",
    "    'Wind KwaZulu-Natal',\n",
    "    'Wind Limpopo',\n",
    "    'Wind Mpumalanga',\n",
    "    'Wind North West',\n",
    "    'Wind Northern Cape',\n",
    "    'Wind Western Cape',\n",
    "    'OCGT Eastern Cape',\n",
    "    'OCGT Western Cape',\n",
    "    'CCGT KZN',\n",
    "    'BESS EC dispatch',\n",
    "    'BESS FS dispatch',\n",
    "    'BESS GP dispatch',\n",
    "    'BESS ZN dispatch',\n",
    "    'BESS LP dispatch',\n",
    "    'BESS MP dispatch',\n",
    "    'BESS NW dispatch',\n",
    "    'BESS NC dispatch',\n",
    "    'BESS WC dispatch',\n",
    "    'Drakensberg dispatch',\n",
    "    'Ingula dispatch',\n",
    "    'Palmiet dispatch',\n",
    "    'Steenbras dispatch',\n",
    "    'EC Loadshedding',\n",
    "    'FS Loadshedding',\n",
    "    'GP Loadshedding',\n",
    "    'ZN Loadshedding',\n",
    "    'LP Loadshedding',\n",
    "    'MP Loadshedding',\n",
    "    'NC Loadshedding',\n",
    "    'NW Loadshedding',\n",
    "    'WC Loadshedding'\n",
    "]\n",
    "\n",
    "\n",
    "\n",
    "\n",
    "# Reorder the combined_df\n",
    "# Drop missing ones first to avoid KeyError if any label doesn't exist\n",
    "columns_in_df = [col for col in plot_order if col in combined_df.columns]\n",
    "\n",
    "combined_df = combined_df[columns_in_df]\n"
   ]
  },
  {
   "cell_type": "code",
   "execution_count": null,
   "id": "90be533d",
   "metadata": {},
   "outputs": [],
   "source": [
    "import plotly.graph_objects as go\n",
    "\n",
    "fig = go.Figure()\n",
    "\n",
    "for col in combined_df.columns:\n",
    "    fig.add_trace(go.Scatter(\n",
    "        x=combined_df.index,\n",
    "        y=combined_df[col],\n",
    "        mode='lines',\n",
    "        stackgroup='one',\n",
    "        name=col\n",
    "    ))\n",
    "\n",
    "fig.update_layout(\n",
    "    title=\"Stacked Area Plot\",\n",
    "    xaxis_title=\"Time\",\n",
    "    yaxis_title=\"Power [MW]\",\n",
    "    legend_title=\"Units\",\n",
    "    hovermode=\"x unified\"\n",
    ")\n",
    "\n",
    "fig.show()\n"
   ]
  },
  {
   "cell_type": "code",
   "execution_count": null,
   "id": "1b007c47",
   "metadata": {},
   "outputs": [],
   "source": [
    "#to export results to excel\n",
    "\n",
    "# n.export_to_excel(\"assignment-4-casex-results.xlsx\")"
   ]
  },
  {
   "cell_type": "code",
   "execution_count": null,
   "id": "5c4eb3de",
   "metadata": {},
   "outputs": [],
   "source": [
    "#to export results to ecsv\n",
    "\n",
    "# n.export_to_csv(\"assignment-4-casex-results\")"
   ]
  }
 ],
 "metadata": {
  "kernelspec": {
   "display_name": "pypsa",
   "language": "python",
   "name": "python3"
  },
  "language_info": {
   "codemirror_mode": {
    "name": "ipython",
    "version": 3
   },
   "file_extension": ".py",
   "mimetype": "text/x-python",
   "name": "python",
   "nbconvert_exporter": "python",
   "pygments_lexer": "ipython3",
   "version": "3.12.1"
  }
 },
 "nbformat": 4,
 "nbformat_minor": 5
}
